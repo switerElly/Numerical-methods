{
 "cells": [
  {
   "cell_type": "markdown",
   "metadata": {},
   "source": [
    "### Задание 1.1.8"
   ]
  },
  {
   "cell_type": "code",
   "execution_count": 1,
   "metadata": {},
   "outputs": [],
   "source": [
    "import matplotlib.pyplot as plt"
   ]
  },
  {
   "cell_type": "code",
   "execution_count": 2,
   "metadata": {},
   "outputs": [
    {
     "name": "stdout",
     "output_type": "stream",
     "text": [
      "S(10): 5.714285714285714, d(10): 2.2857142857142856, M(10): 0 \n",
      "-------------------\n",
      "S(100): 7.69230769230769, d(100): 0.30769230769231015, M(100): 1 \n",
      "-------------------\n",
      "S(1000): 7.968127490039844, d(1000): 0.03187250996015578, M(1000): 2 \n",
      "-------------------\n",
      "S(10000): 7.9968012794882295, d(10000): 0.003198720511770503, M(10000): 3 \n",
      "-------------------\n",
      "S(100000): 7.999680012799457, d(100000): 0.00031998720054282614, M(100000): 4 \n",
      "-------------------\n"
     ]
    },
    {
     "data": {
      "image/png": "[encoded data removed]",
      "text/plain": [
       "<Figure size 432x288 with 1 Axes>"
      ]
     },
     "metadata": {
      "needs_background": "light"
     },
     "output_type": "display_data"
    }
   ],
   "source": [
    "analit_s = 8\n",
    "S = {}\n",
    "d = {}\n",
    "M = dict()\n",
    "for N in [10, 100, 1000, 10000, 100000]:\n",
    "    s = 0\n",
    "    M[N] = 0\n",
    "    for n in range(N):\n",
    "        s += 32/(n**2 + 9*n + 20)\n",
    "    S[N] = s\n",
    "    d[N] = abs(analit_s - s)\n",
    "    num = 0\n",
    "    while num > -20:\n",
    "        if d[N] <= 10 ** num:\n",
    "            M[N] += 1\n",
    "            num -= 1\n",
    "        else:\n",
    "            break\n",
    "    print(f'S({N}): {S[N]}, d({N}): {d[N]}, M({N}): {M[N]} \\n-------------------')\n",
    "\n",
    "bars = plt.bar(list(map(str, S.keys())), list(M.values()))\n",
    "plt.show()"
   ]
  },
  {
   "cell_type": "markdown",
   "metadata": {},
   "source": [
    "### Задание 1.5.2"
   ]
  },
  {
   "cell_type": "code",
   "execution_count": 2,
   "metadata": {},
   "outputs": [],
   "source": [
    "import numpy as np"
   ]
  },
  {
   "cell_type": "code",
   "execution_count": 8,
   "metadata": {},
   "outputs": [
    {
     "name": "stdout",
     "output_type": "stream",
     "text": [
      "error: 0.1\n",
      "x1=-14.93849, x2=-12.56151\n",
      "error: 0.01\n",
      "x1=-14.12574, x2=-13.28426\n",
      "error: 0.001\n",
      "x1=-13.93223, x2=-13.46877\n",
      "error: 0.0001\n",
      "x1=-13.90345, x2=-13.49665\n",
      "error: 1e-05\n",
      "x1=-13.90035, x2=-13.49966\n",
      "error: 1e-06\n",
      "x1=-13.90003, x2=-13.49997\n",
      "error: 1e-07\n",
      "x1=-13.90000, x2=-13.50000\n",
      "error: 1e-08\n",
      "x1=-13.90000, x2=-13.50000\n",
      "error: 1e-09\n",
      "x1=-13.90000, x2=-13.50000\n",
      "error: 1e-10\n",
      "x1=-13.90000, x2=-13.50000\n",
      "error: 1e-11\n",
      "x1=-13.90000, x2=-13.50000\n",
      "error: 1e-12\n",
      "x1=-13.90000, x2=-13.50000\n",
      "error: 1e-13\n",
      "x1=-13.90000, x2=-13.50000\n",
      "error: 1e-14\n",
      "x1=-13.90000, x2=-13.50000\n",
      "error: 1e-15\n",
      "x1=-13.90000, x2=-13.50000\n"
     ]
    }
   ],
   "source": [
    "true_coefficients = np.array([1, 27.4, 187.65])\n",
    "errors = [0.1, 10**-2, 10**-3, 10**-4, 10**-5, 10**-6, 10**-7, 10**-8, 10**-9, 10**-10, 10**-11, 10**-12, 10**-13, 10**-14, 10**-15]\n",
    "for err in errors:\n",
    "    actual_coefficients = true_coefficients + np.array([0, err, 0])\n",
    "    print('error:', err)\n",
    "    print(\"x1={:.5f}, x2={:.5f}\".format(*np.roots(actual_coefficients)))"
   ]
  },
  {
   "cell_type": "markdown",
   "metadata": {},
   "source": [
    "### Задача 1.7 python"
   ]
  },
  {
   "cell_type": "code",
   "execution_count": 10,
   "metadata": {},
   "outputs": [],
   "source": [
    "import numpy as np"
   ]
  },
  {
   "cell_type": "code",
   "execution_count": 11,
   "metadata": {},
   "outputs": [
    {
     "name": "stdout",
     "output_type": "stream",
     "text": [
      "Infinity for float is 2^128\n",
      "Zero for float is 2^-150\n",
      "Epsilon for float is 2^-24 \n",
      "\n",
      "Infinity for double is 2^1024\n",
      "Zero for double is 2^-1075\n",
      "Epsilon for double is 2^-53 \n",
      "\n",
      "Infinity for long double is 2^16384\n",
      "Zero for long double is 2^-16446\n",
      "Epsilon for long double is 2^-64 \n",
      "\n"
     ]
    }
   ],
   "source": [
    "types =  {\n",
    "    'float': np.single,\n",
    "    'double': np.double,\n",
    "    'long double': np.longdouble\n",
    "    }\n",
    "for t in types:\n",
    "    n_t = types[t]\n",
    "    с = 0\n",
    "    n = n_t(1)\n",
    "    while n != np.inf:\n",
    "        n = (n*2).astype(n_t)\n",
    "        с += 1\n",
    "    print(f'Infinity for {t} is 2^{с}')\n",
    "    с = 0\n",
    "    n = n_t(1)\n",
    "    while n != 0:\n",
    "        n = (n/2).astype(n_t)\n",
    "        с += 1\n",
    "    print(f'Zero for {t} is 2^-{с}')\n",
    "    с = 0\n",
    "    n = n_t(1)\n",
    "    while n_t(1) + n > n_t(1):\n",
    "        n = (n/2).astype(n_t)\n",
    "        с += 1\n",
    "    print(f'Epsilon for {t} is 2^-{с} \\n')"
   ]
  },
  {
   "cell_type": "markdown",
   "metadata": {},
   "source": [
    "### Задача 1.7 c++"
   ]
  },
  {
   "cell_type": "code",
   "execution_count": 12,
   "metadata": {},
   "outputs": [
    {
     "name": "stdout",
     "output_type": "stream",
     "text": [
      "Writing file.cpp\n"
     ]
    }
   ],
   "source": [
    "%%writefile file.cpp\n",
    "#include<iostream>\n",
    "#include <limits>\n",
    "using namespace std;\n",
    "\n",
    "int main() {\n",
    "\n",
    "  int c = 0;\n",
    "  float fl = 1;\n",
    "  while(fl != numeric_limits<float>::infinity()) {\n",
    "    fl *= 2;\n",
    "    c += 1;\n",
    "  }\n",
    "  cout << \"Infinity for float is 2^\" << c << endl;\n",
    "\n",
    "  c = 0;\n",
    "  fl = 1;\n",
    "  while(fl != 0) {\n",
    "    fl /= 2;\n",
    "    c += 1;\n",
    "  }\n",
    "  cout << \"Zero for float is 2^-\" << c << endl;\n",
    "\n",
    "  c = 0;\n",
    "  fl = 1;\n",
    "  while(fl + 1 > 1) {\n",
    "    fl /= 2;\n",
    "    c += 1;\n",
    "  }\n",
    "  cout << \"Epsilon for float is 2^-\" << c << endl << endl;\n",
    "\n",
    "  double db = 1;\n",
    "  c = 0;\n",
    "  while(db != numeric_limits<double>::infinity()) {\n",
    "    db *= 2;\n",
    "    c += 1;\n",
    "  }\n",
    "  cout << \"Infinity for double is 2^\" << c << endl;\n",
    "\n",
    "  c = 0;\n",
    "  db = 1;\n",
    "  while(db != 0) {\n",
    "    db /= 2;\n",
    "    c += 1;\n",
    "  }\n",
    "  cout << \"Zero for double is 2^-\" << c << endl;\n",
    "\n",
    "  c = 0;\n",
    "  db = 1;\n",
    "  while(db + 1 > 1) {\n",
    "    db /= 2;\n",
    "    c += 1;\n",
    "  }\n",
    "  cout << \"Epsilon for double is 2^-\" << c << endl << endl;\n",
    "\n",
    "  long double ldb = 1;\n",
    "  c = 0;\n",
    "  while(ldb != numeric_limits<long double>::infinity()) {\n",
    "    ldb *= 2;\n",
    "    c += 1;\n",
    "  }\n",
    "  cout << \"Infinity for long double is 2^\" << c << endl;\n",
    "\n",
    "  c = 0;\n",
    "  ldb = 1;\n",
    "  while(ldb != 0) {\n",
    "    ldb /= 2;\n",
    "    c += 1;\n",
    "  }\n",
    "  cout << \"Zero for long double is 2^-\" << c << endl;\n",
    "\n",
    "  c = 0;\n",
    "  ldb = 1;\n",
    "  while(ldb + 1 > 1) {\n",
    "    ldb /= 2;\n",
    "    c += 1;\n",
    "  }\n",
    "  cout << \"Epsilon for long double is 2^-\" << c << endl << endl;\n",
    "\n",
    "  return 0;\n",
    "}"
   ]
  },
  {
   "cell_type": "code",
   "execution_count": 13,
   "metadata": {},
   "outputs": [],
   "source": [
    "! g++  file.cpp -o f"
   ]
  },
  {
   "cell_type": "code",
   "execution_count": 14,
   "metadata": {},
   "outputs": [
    {
     "name": "stdout",
     "output_type": "stream",
     "text": [
      "Infinity for float is 2^128\n",
      "Zero for float is 2^-150\n",
      "Epsilon for float is 2^-24\n",
      "\n",
      "Infinity for double is 2^1024\n",
      "Zero for double is 2^-1075\n",
      "Epsilon for double is 2^-53\n",
      "\n",
      "Infinity for long double is 2^16384\n",
      "Zero for long double is 2^-16446\n",
      "Epsilon for long double is 2^-64\n",
      "\n"
     ]
    }
   ],
   "source": [
    "! ./f"
   ]
  },
  {
   "cell_type": "markdown",
   "metadata": {},
   "source": [
    "### Задача 1.9.2"
   ]
  },
  {
   "cell_type": "code",
   "execution_count": 15,
   "metadata": {},
   "outputs": [],
   "source": [
    "import numpy as np"
   ]
  },
  {
   "cell_type": "code",
   "execution_count": 16,
   "metadata": {},
   "outputs": [
    {
     "name": "stdout",
     "output_type": "stream",
     "text": [
      "det = 9.600000000000176 => A is invertible\n",
      "------------\n",
      "alpha = 0.05 \n",
      "3.6042036012009144 <= new det <= 15.589803598798975\n",
      "matr is invertible\n",
      "relative error in det = 0.6242499998748875\n",
      "------------\n",
      "beta = 0.1 \n",
      "-2.397585590399123 <= new det <= 21.573614390399435\n",
      "matr is not invertible\n",
      "relative error in det = 1.2484999989999022\n",
      "------------\n"
     ]
    }
   ],
   "source": [
    "A = np.array([[30, 34, 19],\n",
    "            [31.4, 35.4, 20],\n",
    "            [24, 28, 13]], dtype=float)\n",
    "alpha = 0.05\n",
    "beta = 0.1\n",
    "\n",
    "print(f'det = {np.linalg.det(A)} => A is invertible\\n------------')\n",
    "\n",
    "mn1 = np.inf\n",
    "mx1 = -np.inf\n",
    "for i in range(512):\n",
    "    new_A = A * np.array([1+(1-2*int(j))*alpha/100 for j in bin(i)[2:].zfill(9)]).reshape(3,3)\n",
    "    new_det = np.linalg.det(new_A)\n",
    "    mn1 = min(new_det, mn1)\n",
    "    mx1 = max(new_det, mx1)\n",
    "\n",
    "print(f'alpha = {alpha} \\n{mn1} <= new det <= {mx1}')\n",
    "if mn1 <= 0 and 0 <= mx1:\n",
    "    print('matr is not invertible')\n",
    "else:\n",
    "    print('matr is invertible')\n",
    "print(f'relative error in det = {(abs(mn1-np.linalg.det(A)) + abs(mx1-np.linalg.det(A)))/(2*abs(np.linalg.det(A)))}\\n------------')\n",
    "\n",
    "mn2 = np.inf\n",
    "mx2 = -np.inf\n",
    "for i in range(512):\n",
    "    new_A = A * np.array([1+(1-2*int(j))*beta/100 for j in bin(i)[2:].zfill(9)]).reshape(3,3)\n",
    "    new_det = np.linalg.det(new_A)\n",
    "    mn2 = min(new_det, mn2)\n",
    "    mx2 = max(new_det, mx2)\n",
    "print(f'beta = {beta} \\n{mn2} <= new det <= {mx2}')\n",
    "if mn2 <= 0 and 0 <= mx2:\n",
    "    print('matr is not invertible')\n",
    "else:\n",
    "    print('matr is invertible')\n",
    "print(f'relative error in det = {(abs(mn2-np.linalg.det(A)) + abs(mx2-np.linalg.det(A)))/(2*abs(np.linalg.det(A)))}\\n------------')"
   ]
  }
 ],
 "metadata": {
  "kernelspec": {
   "display_name": "base",
   "language": "python",
   "name": "python3"
  },
  "language_info": {
   "codemirror_mode": {
    "name": "ipython",
    "version": 3
   },
   "file_extension": ".py",
   "mimetype": "text/x-python",
   "name": "python",
   "nbconvert_exporter": "python",
   "pygments_lexer": "ipython3",
   "version": "3.9.12"
  }
 },
 "nbformat": 4,
 "nbformat_minor": 2
}
