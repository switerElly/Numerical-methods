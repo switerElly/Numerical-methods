{
 "cells": [
  {
   "cell_type": "code",
   "execution_count": 1,
   "metadata": {},
   "outputs": [],
   "source": [
    "import numpy as np\n",
    "import matplotlib.pyplot as plt"
   ]
  },
  {
   "cell_type": "code",
   "execution_count": 9,
   "metadata": {},
   "outputs": [
    {
     "data": {
      "image/png": "[encoded data removed]",
      "text/plain": [
       "<Figure size 432x432 with 1 Axes>"
      ]
     },
     "metadata": {
      "needs_background": "light"
     },
     "output_type": "display_data"
    },
    {
     "name": "stdout",
     "output_type": "stream",
     "text": [
      "The greatest influence on the error has b_5\n",
      "Vector d = [1.4227340159743037e-05, 0.002458281201822218, 0.044530417947518594, 0.22188869703656877, 0.39304077475900123, 0.22323844180828958]\n",
      "The inequality delta(x^m) <= cond(A) * delta(b^m) is fulfilled: 0.39304077475900123 <= 45807660729.06723\n"
     ]
    }
   ],
   "source": [
    "b = np.full(6, fill_value=8, dtype=float)\n",
    "\n",
    "A = np.zeros((6, 6))\n",
    "C = np.zeros((6, 6))\n",
    "for i in range(6):\n",
    "    for j in range(6):\n",
    "        C[i, j] = 0.1 * 8 * (i + 1) * (j + 1)\n",
    "        A[i, j] = 1 / (C[i,j]**2 + 0.58 * C[i, j])\n",
    "\n",
    "x = np.linalg.solve(A, b)\n",
    "cond_value = np.linalg.cond(np.abs(A), p=np.inf)\n",
    "\n",
    "delta = 0.08\n",
    "new_x = np.empty((6, 6))\n",
    "for i in range(6):\n",
    "    new_b = b.copy()\n",
    "    new_b[i] += delta\n",
    "    new_x[i] = np.linalg.solve(A, new_b)\n",
    "\n",
    "d = []\n",
    "for i in new_x:\n",
    "    d.append(np.linalg.norm(x - i, ord=np.inf) / np.linalg.norm(x, ord=np.inf))\n",
    "\n",
    "plt.figure(figsize=(6, 6))\n",
    "plt.bar(range(1, 7), d)\n",
    "plt.show()\n",
    "\n",
    "new_b = b.copy()\n",
    "new_b[np.argmax(d)] += delta\n",
    "\n",
    "delta_b = (np.linalg.norm(new_b - b, ord=np.inf) / np.linalg.norm(b, ord=np.inf))\n",
    "print(f'The greatest influence on the error has b_{np.argmax(d) + 1}')\n",
    "print(f'Vector d = {d}')\n",
    "print(f'The inequality delta(x^m) <= cond(A) * delta(b^m) is fulfilled: {d[np.argmax(d)]} <= {delta_b * cond_value}')"
   ]
  },
  {
   "cell_type": "code",
   "execution_count": 18,
   "metadata": {},
   "outputs": [
    {
     "data": {
      "image/png": "[encoded data removed]",
      "text/plain": [
       "<Figure size 720x360 with 1 Axes>"
      ]
     },
     "metadata": {
      "needs_background": "light"
     },
     "output_type": "display_data"
    },
    {
     "name": "stdout",
     "output_type": "stream",
     "text": [
      "The greatest influence on the error has element on position: (0, 0)\n",
      "The inequality delta(x^*) <= cond(A) * delta(A^*) is fulfilled: 1.4821367200256994 <= 242963747017.2493\n"
     ]
    }
   ],
   "source": [
    "b = np.full(6, fill_value=8, dtype=float)\n",
    "\n",
    "A = np.zeros((6, 6))\n",
    "C = np.zeros((6, 6))\n",
    "for i in range(6):\n",
    "    for j in range(6):\n",
    "        C[i, j] = 0.1 * 8 * (i + 1) * (j + 1)\n",
    "        A[i, j] = 1 / (C[i,j]**2 + 0.58 * C[i, j])\n",
    "\n",
    "x = np.linalg.solve(A, b)\n",
    "cond_value = np.linalg.cond(A, p=np.inf)\n",
    "\n",
    "delta = 0.08\n",
    "new_x = {}\n",
    "for i in range(6):\n",
    "    for j in range(6):\n",
    "        new_A = A.copy()\n",
    "        new_A[i, j] += delta\n",
    "        new_x[(i, j)] = np.linalg.solve(new_A, b)\n",
    "\n",
    "d = {key: np.linalg.norm(x - x_i, ord=np.inf) / np.linalg.norm(x, ord=np.inf) for key, x_i in new_x.items()}\n",
    "\n",
    "plt.figure(figsize=(10, 5))\n",
    "plt.bar([str(i) for i in d.keys()], d.values())\n",
    "plt.xticks(rotation=90)\n",
    "plt.show()\n",
    "\n",
    "d_i, d_j = max(d, key=d.get)\n",
    "new_A = A.copy()\n",
    "new_A[d_i, d_j] += delta\n",
    "delta_A = (np.linalg.norm(new_A - A, ord=np.inf) / np.linalg.norm(A, ord=np.inf))\n",
    "\n",
    "print(f'The greatest influence on the error has element on position: {d_i, d_j}')\n",
    "print(f'The inequality delta(x^*) <= cond(A) * delta(A^*) is fulfilled: {d[(d_i, d_j)]} <= {delta_A * cond_value}')"
   ]
  },
  {
   "cell_type": "code",
   "execution_count": null,
   "metadata": {},
   "outputs": [],
   "source": []
  }
 ],
 "metadata": {
  "kernelspec": {
   "display_name": "base",
   "language": "python",
   "name": "python3"
  },
  "language_info": {
   "codemirror_mode": {
    "name": "ipython",
    "version": 3
   },
   "file_extension": ".py",
   "mimetype": "text/x-python",
   "name": "python",
   "nbconvert_exporter": "python",
   "pygments_lexer": "ipython3",
   "version": "3.9.12"
  }
 },
 "nbformat": 4,
 "nbformat_minor": 2
}
