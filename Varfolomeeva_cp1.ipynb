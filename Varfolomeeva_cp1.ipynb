{
 "cells": [
  {
   "cell_type": "markdown",
   "metadata": {},
   "source": [
    "### Варфоломеева Анастасия Андреевна, вариант 10"
   ]
  },
  {
   "cell_type": "markdown",
   "metadata": {},
   "source": [
    "$\\frac{\\partial u}{\\partial t} - \\arctg u \\frac{\\partial u}{\\partial x} = 0,  \\quad\\quad    -1 \\leq x < 0$\n",
    "\n",
    "$u(x, 0) = - \\sin \\pi x$\n",
    "\n",
    "$u(0, t) = 0$"
   ]
  },
  {
   "cell_type": "code",
   "execution_count": 30,
   "metadata": {},
   "outputs": [],
   "source": [
    "import numpy as np\n",
    "import matplotlib.pyplot as plt"
   ]
  },
  {
   "cell_type": "code",
   "execution_count": 40,
   "metadata": {},
   "outputs": [],
   "source": [
    "def f(x, t, u):\n",
    "    return -np.arctan(u)\n",
    "\n",
    "def g(x, t, u):\n",
    "    return 0\n",
    "\n",
    "def u0(x):\n",
    "    return -np.sin(np.pi*x)\n",
    "\n",
    "N = 200\n",
    "T = 200\n",
    "x0, x1 = (-1, 0)\n",
    "t0, t1 = (0, 1)\n",
    "dx = (x1 - x0)/N\n",
    "dt = (t1 - t0)/T\n",
    "u = np.zeros((N+1, T+1))\n",
    "u[0, :] = 0\n",
    "u[:, 0] = u0(np.arange(x0, x1 + dx/2, dx))\n",
    "for i in range(0, T):\n",
    "    ti = i * dt\n",
    "    for n in range(0, N):\n",
    "        xn = n * dx\n",
    "        u[n, i+1] = (g(xn, ti, u[n, i]) - f(xn, ti, u[n, i]) * (u[n, i] - u[n, i-1])/dx) * dt + u[n, i]\n",
    "\n",
    "fig = plt.figure()\n",
    "ax = fig.add_subplot(111, projection='3d')\n",
    "x = np.arange(x0, x1 + dx/2, dx)\n",
    "t = np.arange(t0, t1 + dt/2, dt)\n",
    "X, T = np.meshgrid(x, t)\n",
    "ax.plot_surface(X, T, u)\n",
    "plt.show()"
   ]
  },
  {
   "cell_type": "code",
   "execution_count": null,
   "metadata": {},
   "outputs": [],
   "source": []
  }
 ],
 "metadata": {
  "kernelspec": {
   "display_name": "base",
   "language": "python",
   "name": "python3"
  },
  "language_info": {
   "codemirror_mode": {
    "name": "ipython",
    "version": 3
   },
   "file_extension": ".py",
   "mimetype": "text/x-python",
   "name": "python",
   "nbconvert_exporter": "python",
   "pygments_lexer": "ipython3",
   "version": "3.9.12"
  }
 },
 "nbformat": 4,
 "nbformat_minor": 2
}
